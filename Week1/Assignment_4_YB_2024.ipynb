{
  "cells": [
    {
      "cell_type": "markdown",
      "id": "43554d37",
      "metadata": {
        "id": "43554d37"
      },
      "source": [
        "# Turing Machine and Deep Learning\n",
        "\n",
        "## Assignment 4 -- Neural Networks\n",
        "\n",
        "This notebook is meant for you to review and reflect on the content of Lecture 4, which was mainly about neural networks. In particular, we'll focus on aspects that were only briefly mentioned in class in order for you to get a better understanding of it.\n",
        "\n",
        "### Handing in your Assignment\n",
        "\n",
        "Git is an invaluable resource to researchers and developers, and thus for this course, all course material will be (additionally) shared on GitHub. Though there is a tiny bit of a learning curve, this is worth the effort. To hand in your assignment (applicable to all weeks):\n",
        "\n",
        "1. Create a folder called \"Week 4\" and copy this notebook and any other files or data that may be needed.\n",
        "2. Finish the notebook and commit and push regularly. Your final commit before the deadline will be graded."
      ]
    },
    {
      "cell_type": "code",
      "execution_count": 15,
      "id": "52fbab8b",
      "metadata": {
        "id": "52fbab8b"
      },
      "outputs": [],
      "source": [
        "# load common libraries\n",
        "import numpy as np                 # maths\n",
        "import matplotlib.pyplot as plt    # plotting\n",
        "import pandas as pd                # data manipulation\n",
        "from tqdm import tqdm              # loading bar\n",
        "from time import perf_counter      # timer\n",
        "import tensorflow as tf            # NNs and associated\n",
        "from tensorflow import keras       # NNs and associated"
      ]
    },
    {
      "cell_type": "markdown",
      "id": "bf4c3a0a",
      "metadata": {
        "id": "bf4c3a0a"
      },
      "source": [
        "# Q1 CNNs\n",
        "\n",
        "In the lecture, we saw some code that implemented MLPs and CNNs for the task of image classification on CIFAR10. However, we skipped over some details of what CNNs actually do.\n",
        "\n",
        "A CNN works by automatically learning and extracting meaningful patterns, features, and hierarchies from the input data in the following way:\n",
        "\n",
        "1. **Convolution**: A CNN applies (multiple) small filters (kernels) to an input image, performing element-wise multiplications and sums to extract features like edges, corners, and textures. We also did this computation in person during class. These kernels may be a matrix (what we saw in the lecture), or even a stack of matrices (e.g. for RGB images). I'd recommend watching this [3Blue1Brown video](https://www.youtube.com/watch?v=KuXjwB4LzSA&pp=ygUTY29udm9sdXRpb25zIGluIGNubg%3D%3D) and this [DeepLearning.AI](https://www.youtube.com/watch?v=KTB_OFoAQcc) video for reference.\n",
        "2. **Non-linearity**: Non-linear activation functions (e.g., ReLU) are applied to introduce complexity and allows the capture of more abstract representations.\n",
        "3. **Pooling**: Pooling operations are used to downsample the spatial dimensions of feature maps while preserving the most important information. In both cases, a pooling window or filter moves across the input feature map, and a single value is selected or computed within the window based on the pooling operation. Pooling helps reduce the computational complexity of the network and introduces some translation invariance. There are a few types of pooling, but most commonly used are max-pooling and average-pooling.\n",
        "4. **Hierarchy**: Convolution and pooling operations are repeated to create a hierarchy of feature extraction layers, learning more complex and high-level features.\n",
        "5. **Fully Connected Layers**: Flattened features are passed through fully connected layers, similar to a traditional MLP, for classification or regression.\n",
        "6. **Training**: Parameters are adjusted using backpropagation and optimization algorithms to minimize the difference between predictions and true labels.\n",
        "\n",
        "By leveraging convolution, non-linearity, and hierarchical feature extraction, CNNs can automatically learn and recognize intricate patterns and structures in visual data, making them well-suited for tasks like image classification and object detection.\n",
        "\n",
        "You can think of the convolution operation with a kernel over an image as outputting a new modified image, called a feature map. When applying convolutions over feature maps, the size of the output feature map (in each dimension) can be computed by:\n",
        "\n",
        "$$o = \\frac{i - k + 2 p}{s}+1$$\n",
        "\n",
        "where the hyperparameters of the convolution are:\n",
        "- $i$: input_size is the size (height or width) of the input feature map.\n",
        "- $k$: kernel_size is the size (height or width) of the convolutional kernel/filter.\n",
        "- $p$: padding is the number of pixels added to each side of the input feature map (if applicable) (default 0)\n",
        "- $s$: stride is the step size or the number of pixels the kernel moves at each step (default 1)\n",
        "\n",
        "The output size of a pooling operation can also be defined as:\n",
        "$$o = \\frac{i - p}{s} + 1$$\n",
        "\n",
        "**Q1.1** Thus, starting with a 28x28 pixel image (e.g. MNIST), write a series of kernel sizes to use in convolutions (optionally including a pooling operation if you want to try it out, and optionally padding and stride) in order to get it down to an image size of 6x6. There are several correct answers possible here."
      ]
    },
    {
      "cell_type": "markdown",
      "id": "92986362",
      "metadata": {
        "id": "92986362"
      },
      "source": [
        "Convolution with a 5x5 kernel, using a stride of 1 and no padding (output size: 24x24).\n",
        "\n",
        "Max pooling with a pool size of 2x2 and stride of 2 ( output size: 12x12).\n",
        "\n",
        "Convolution with a 5x5 kernel, using a stride of 1 and no padding ( in an output size: 8x8).\n",
        "\n",
        "Max pooling with a pool size of 2x2 and stride of 2 (output size: 4x4).\n",
        "\n",
        "Convolution with a 3x3 kernel, using a stride of 1 and no padding (output size: 2x2).\n",
        "\n",
        "Convolution with a 3x3 kernel, using a stride of 1 and no padding (output size: 1x1)."
      ]
    },
    {
      "cell_type": "markdown",
      "id": "b5510986",
      "metadata": {
        "id": "b5510986"
      },
      "source": [
        "**Q1.2** Now, let's try out your strategy in code. Implement the convolutions you defined above to perform classification over MNIST digits. Note that most of the code is written for you, but be mindful of the steps that are written. Note that you need to choose the number of kernals as well as the size at each layer. The input shape of your next layer is the output shape you computed above and the number of kernels you chose for the previous layer ``input_shape=(w,h,k)``."
      ]
    },
    {
      "cell_type": "code",
      "execution_count": 16,
      "id": "eae273e0",
      "metadata": {
        "id": "eae273e0"
      },
      "outputs": [],
      "source": [
        "# Load the MNIST dataset\n",
        "(x_train, y_train), (x_test, y_test) = keras.datasets.mnist.load_data()\n",
        "\n",
        "# Preprocess the data\n",
        "x_train = x_train.reshape(-1, 28, 28, 1).astype('float32') / 255.0\n",
        "x_test = x_test.reshape(-1, 28, 28, 1).astype('float32') / 255.0\n",
        "\n",
        "# Convert the labels to one-hot encoding\n",
        "y_train = keras.utils.to_categorical(y_train)\n",
        "y_test = keras.utils.to_categorical(y_test)"
      ]
    },
    {
      "cell_type": "code",
      "source": [
        "import keras\n",
        "\n",
        "# Load the MNIST dataset\n",
        "(x_train, y_train), (x_test, y_test) = keras.datasets.mnist.load_data()\n",
        "\n",
        "# Preprocess the data\n",
        "x_train = x_train.reshape(-1, 28, 28, 1).astype('float32') / 255.0\n",
        "x_test = x_test.reshape(-1, 28, 28, 1).astype('float32') / 255.0\n",
        "\n",
        "# Convert the labels to one-hot encoding\n",
        "num_classes = 10\n",
        "y_train = keras.utils.to_categorical(y_train, num_classes)\n",
        "y_test = keras.utils.to_categorical(y_test, num_classes)"
      ],
      "metadata": {
        "id": "H0VuOZEpWar9"
      },
      "id": "H0VuOZEpWar9",
      "execution_count": 28,
      "outputs": []
    },
    {
      "cell_type": "code",
      "source": [
        "print(\"Shape of x_train:\", x_train.shape)\n",
        "print(\"Shape of y_train:\", y_train.shape)\n",
        "print(\"Shape of x_test:\", x_test.shape)\n",
        "print(\"Shape of y_test:\", y_test.shape)"
      ],
      "metadata": {
        "colab": {
          "base_uri": "https://localhost:8080/"
        },
        "id": "j7k8P4E7WI46",
        "outputId": "9f2f2826-898b-40b8-a77a-b53e0f66697f"
      },
      "id": "j7k8P4E7WI46",
      "execution_count": 27,
      "outputs": [
        {
          "output_type": "stream",
          "name": "stdout",
          "text": [
            "Shape of x_train: (60000, 28, 28, 1)\n",
            "Shape of y_train: (114, 1)\n",
            "Shape of x_test: (10000, 28, 28, 1)\n",
            "Shape of y_test: (18, 1)\n"
          ]
        }
      ]
    },
    {
      "cell_type": "code",
      "source": [
        "# Define the model\n",
        "model = keras.Sequential([\n",
        "    keras.layers.Conv2D(32, kernel_size=(5, 5), activation='relu', input_shape=(28, 28, 1)),\n",
        "    keras.layers.Conv2D(64, kernel_size=(5, 5), activation='relu'),\n",
        "    keras.layers.MaxPooling2D(pool_size=(2, 2)),\n",
        "    keras.layers.Conv2D(128, kernel_size=(3, 3), activation='relu'),\n",
        "    keras.layers.MaxPooling2D(pool_size=(2, 2)),\n",
        "    keras.layers.Conv2D(256, kernel_size=(3, 3), activation='relu'),\n",
        "    keras.layers.Flatten(),\n",
        "    keras.layers.Dense(256, activation='relu'),\n",
        "    keras.layers.Dense(10, activation='softmax')\n",
        "])\n",
        "\n",
        "# Compile the model\n",
        "model.compile(optimizer='adam', loss='categorical_crossentropy', metrics=['accuracy'])\n",
        "\n",
        "# Train the model\n",
        "history = model.fit(x_train, y_train, batch_size=128, epochs=10, validation_split=0.2)\n",
        "\n",
        "# Evaluate the model\n",
        "test_loss, test_acc = model.evaluate(x_test, y_test)\n",
        "print('Test accuracy:', test_acc)\n"
      ],
      "metadata": {
        "colab": {
          "base_uri": "https://localhost:8080/",
          "height": 374
        },
        "id": "6R3NPyBvYYkA",
        "outputId": "2cc50753-ca5b-4136-e374-763b3ccf349a"
      },
      "id": "6R3NPyBvYYkA",
      "execution_count": 29,
      "outputs": [
        {
          "output_type": "stream",
          "name": "stdout",
          "text": [
            "Epoch 1/10\n",
            "117/375 [========>.....................] - ETA: 2:41 - loss: 0.4295 - accuracy: 0.8602"
          ]
        },
        {
          "output_type": "error",
          "ename": "KeyboardInterrupt",
          "evalue": "",
          "traceback": [
            "\u001b[0;31m---------------------------------------------------------------------------\u001b[0m",
            "\u001b[0;31mKeyboardInterrupt\u001b[0m                         Traceback (most recent call last)",
            "\u001b[0;32m<ipython-input-29-1931b7b07e00>\u001b[0m in \u001b[0;36m<cell line: 18>\u001b[0;34m()\u001b[0m\n\u001b[1;32m     16\u001b[0m \u001b[0;34m\u001b[0m\u001b[0m\n\u001b[1;32m     17\u001b[0m \u001b[0;31m# Train the model\u001b[0m\u001b[0;34m\u001b[0m\u001b[0;34m\u001b[0m\u001b[0m\n\u001b[0;32m---> 18\u001b[0;31m \u001b[0mhistory\u001b[0m \u001b[0;34m=\u001b[0m \u001b[0mmodel\u001b[0m\u001b[0;34m.\u001b[0m\u001b[0mfit\u001b[0m\u001b[0;34m(\u001b[0m\u001b[0mx_train\u001b[0m\u001b[0;34m,\u001b[0m \u001b[0my_train\u001b[0m\u001b[0;34m,\u001b[0m \u001b[0mbatch_size\u001b[0m\u001b[0;34m=\u001b[0m\u001b[0;36m128\u001b[0m\u001b[0;34m,\u001b[0m \u001b[0mepochs\u001b[0m\u001b[0;34m=\u001b[0m\u001b[0;36m10\u001b[0m\u001b[0;34m,\u001b[0m \u001b[0mvalidation_split\u001b[0m\u001b[0;34m=\u001b[0m\u001b[0;36m0.2\u001b[0m\u001b[0;34m)\u001b[0m\u001b[0;34m\u001b[0m\u001b[0;34m\u001b[0m\u001b[0m\n\u001b[0m\u001b[1;32m     19\u001b[0m \u001b[0;34m\u001b[0m\u001b[0m\n\u001b[1;32m     20\u001b[0m \u001b[0;31m# Evaluate the model\u001b[0m\u001b[0;34m\u001b[0m\u001b[0;34m\u001b[0m\u001b[0m\n",
            "\u001b[0;32m/usr/local/lib/python3.10/dist-packages/keras/src/utils/traceback_utils.py\u001b[0m in \u001b[0;36merror_handler\u001b[0;34m(*args, **kwargs)\u001b[0m\n\u001b[1;32m     63\u001b[0m         \u001b[0mfiltered_tb\u001b[0m \u001b[0;34m=\u001b[0m \u001b[0;32mNone\u001b[0m\u001b[0;34m\u001b[0m\u001b[0;34m\u001b[0m\u001b[0m\n\u001b[1;32m     64\u001b[0m         \u001b[0;32mtry\u001b[0m\u001b[0;34m:\u001b[0m\u001b[0;34m\u001b[0m\u001b[0;34m\u001b[0m\u001b[0m\n\u001b[0;32m---> 65\u001b[0;31m             \u001b[0;32mreturn\u001b[0m \u001b[0mfn\u001b[0m\u001b[0;34m(\u001b[0m\u001b[0;34m*\u001b[0m\u001b[0margs\u001b[0m\u001b[0;34m,\u001b[0m \u001b[0;34m**\u001b[0m\u001b[0mkwargs\u001b[0m\u001b[0;34m)\u001b[0m\u001b[0;34m\u001b[0m\u001b[0;34m\u001b[0m\u001b[0m\n\u001b[0m\u001b[1;32m     66\u001b[0m         \u001b[0;32mexcept\u001b[0m \u001b[0mException\u001b[0m \u001b[0;32mas\u001b[0m \u001b[0me\u001b[0m\u001b[0;34m:\u001b[0m\u001b[0;34m\u001b[0m\u001b[0;34m\u001b[0m\u001b[0m\n\u001b[1;32m     67\u001b[0m             \u001b[0mfiltered_tb\u001b[0m \u001b[0;34m=\u001b[0m \u001b[0m_process_traceback_frames\u001b[0m\u001b[0;34m(\u001b[0m\u001b[0me\u001b[0m\u001b[0;34m.\u001b[0m\u001b[0m__traceback__\u001b[0m\u001b[0;34m)\u001b[0m\u001b[0;34m\u001b[0m\u001b[0;34m\u001b[0m\u001b[0m\n",
            "\u001b[0;32m/usr/local/lib/python3.10/dist-packages/keras/src/engine/training.py\u001b[0m in \u001b[0;36mfit\u001b[0;34m(self, x, y, batch_size, epochs, verbose, callbacks, validation_split, validation_data, shuffle, class_weight, sample_weight, initial_epoch, steps_per_epoch, validation_steps, validation_batch_size, validation_freq, max_queue_size, workers, use_multiprocessing)\u001b[0m\n\u001b[1;32m   1805\u001b[0m                         ):\n\u001b[1;32m   1806\u001b[0m                             \u001b[0mcallbacks\u001b[0m\u001b[0;34m.\u001b[0m\u001b[0mon_train_batch_begin\u001b[0m\u001b[0;34m(\u001b[0m\u001b[0mstep\u001b[0m\u001b[0;34m)\u001b[0m\u001b[0;34m\u001b[0m\u001b[0;34m\u001b[0m\u001b[0m\n\u001b[0;32m-> 1807\u001b[0;31m                             \u001b[0mtmp_logs\u001b[0m \u001b[0;34m=\u001b[0m \u001b[0mself\u001b[0m\u001b[0;34m.\u001b[0m\u001b[0mtrain_function\u001b[0m\u001b[0;34m(\u001b[0m\u001b[0miterator\u001b[0m\u001b[0;34m)\u001b[0m\u001b[0;34m\u001b[0m\u001b[0;34m\u001b[0m\u001b[0m\n\u001b[0m\u001b[1;32m   1808\u001b[0m                             \u001b[0;32mif\u001b[0m \u001b[0mdata_handler\u001b[0m\u001b[0;34m.\u001b[0m\u001b[0mshould_sync\u001b[0m\u001b[0;34m:\u001b[0m\u001b[0;34m\u001b[0m\u001b[0;34m\u001b[0m\u001b[0m\n\u001b[1;32m   1809\u001b[0m                                 \u001b[0mcontext\u001b[0m\u001b[0;34m.\u001b[0m\u001b[0masync_wait\u001b[0m\u001b[0;34m(\u001b[0m\u001b[0;34m)\u001b[0m\u001b[0;34m\u001b[0m\u001b[0;34m\u001b[0m\u001b[0m\n",
            "\u001b[0;32m/usr/local/lib/python3.10/dist-packages/tensorflow/python/util/traceback_utils.py\u001b[0m in \u001b[0;36merror_handler\u001b[0;34m(*args, **kwargs)\u001b[0m\n\u001b[1;32m    148\u001b[0m     \u001b[0mfiltered_tb\u001b[0m \u001b[0;34m=\u001b[0m \u001b[0;32mNone\u001b[0m\u001b[0;34m\u001b[0m\u001b[0;34m\u001b[0m\u001b[0m\n\u001b[1;32m    149\u001b[0m     \u001b[0;32mtry\u001b[0m\u001b[0;34m:\u001b[0m\u001b[0;34m\u001b[0m\u001b[0;34m\u001b[0m\u001b[0m\n\u001b[0;32m--> 150\u001b[0;31m       \u001b[0;32mreturn\u001b[0m \u001b[0mfn\u001b[0m\u001b[0;34m(\u001b[0m\u001b[0;34m*\u001b[0m\u001b[0margs\u001b[0m\u001b[0;34m,\u001b[0m \u001b[0;34m**\u001b[0m\u001b[0mkwargs\u001b[0m\u001b[0;34m)\u001b[0m\u001b[0;34m\u001b[0m\u001b[0;34m\u001b[0m\u001b[0m\n\u001b[0m\u001b[1;32m    151\u001b[0m     \u001b[0;32mexcept\u001b[0m \u001b[0mException\u001b[0m \u001b[0;32mas\u001b[0m \u001b[0me\u001b[0m\u001b[0;34m:\u001b[0m\u001b[0;34m\u001b[0m\u001b[0;34m\u001b[0m\u001b[0m\n\u001b[1;32m    152\u001b[0m       \u001b[0mfiltered_tb\u001b[0m \u001b[0;34m=\u001b[0m \u001b[0m_process_traceback_frames\u001b[0m\u001b[0;34m(\u001b[0m\u001b[0me\u001b[0m\u001b[0;34m.\u001b[0m\u001b[0m__traceback__\u001b[0m\u001b[0;34m)\u001b[0m\u001b[0;34m\u001b[0m\u001b[0;34m\u001b[0m\u001b[0m\n",
            "\u001b[0;32m/usr/local/lib/python3.10/dist-packages/tensorflow/python/eager/polymorphic_function/polymorphic_function.py\u001b[0m in \u001b[0;36m__call__\u001b[0;34m(self, *args, **kwds)\u001b[0m\n\u001b[1;32m    830\u001b[0m \u001b[0;34m\u001b[0m\u001b[0m\n\u001b[1;32m    831\u001b[0m       \u001b[0;32mwith\u001b[0m \u001b[0mOptionalXlaContext\u001b[0m\u001b[0;34m(\u001b[0m\u001b[0mself\u001b[0m\u001b[0;34m.\u001b[0m\u001b[0m_jit_compile\u001b[0m\u001b[0;34m)\u001b[0m\u001b[0;34m:\u001b[0m\u001b[0;34m\u001b[0m\u001b[0;34m\u001b[0m\u001b[0m\n\u001b[0;32m--> 832\u001b[0;31m         \u001b[0mresult\u001b[0m \u001b[0;34m=\u001b[0m \u001b[0mself\u001b[0m\u001b[0;34m.\u001b[0m\u001b[0m_call\u001b[0m\u001b[0;34m(\u001b[0m\u001b[0;34m*\u001b[0m\u001b[0margs\u001b[0m\u001b[0;34m,\u001b[0m \u001b[0;34m**\u001b[0m\u001b[0mkwds\u001b[0m\u001b[0;34m)\u001b[0m\u001b[0;34m\u001b[0m\u001b[0;34m\u001b[0m\u001b[0m\n\u001b[0m\u001b[1;32m    833\u001b[0m \u001b[0;34m\u001b[0m\u001b[0m\n\u001b[1;32m    834\u001b[0m       \u001b[0mnew_tracing_count\u001b[0m \u001b[0;34m=\u001b[0m \u001b[0mself\u001b[0m\u001b[0;34m.\u001b[0m\u001b[0mexperimental_get_tracing_count\u001b[0m\u001b[0;34m(\u001b[0m\u001b[0;34m)\u001b[0m\u001b[0;34m\u001b[0m\u001b[0;34m\u001b[0m\u001b[0m\n",
            "\u001b[0;32m/usr/local/lib/python3.10/dist-packages/tensorflow/python/eager/polymorphic_function/polymorphic_function.py\u001b[0m in \u001b[0;36m_call\u001b[0;34m(self, *args, **kwds)\u001b[0m\n\u001b[1;32m    866\u001b[0m       \u001b[0;31m# In this case we have created variables on the first call, so we run the\u001b[0m\u001b[0;34m\u001b[0m\u001b[0;34m\u001b[0m\u001b[0m\n\u001b[1;32m    867\u001b[0m       \u001b[0;31m# defunned version which is guaranteed to never create variables.\u001b[0m\u001b[0;34m\u001b[0m\u001b[0;34m\u001b[0m\u001b[0m\n\u001b[0;32m--> 868\u001b[0;31m       return tracing_compilation.call_function(\n\u001b[0m\u001b[1;32m    869\u001b[0m           \u001b[0margs\u001b[0m\u001b[0;34m,\u001b[0m \u001b[0mkwds\u001b[0m\u001b[0;34m,\u001b[0m \u001b[0mself\u001b[0m\u001b[0;34m.\u001b[0m\u001b[0m_no_variable_creation_config\u001b[0m\u001b[0;34m\u001b[0m\u001b[0;34m\u001b[0m\u001b[0m\n\u001b[1;32m    870\u001b[0m       )\n",
            "\u001b[0;32m/usr/local/lib/python3.10/dist-packages/tensorflow/python/eager/polymorphic_function/tracing_compilation.py\u001b[0m in \u001b[0;36mcall_function\u001b[0;34m(args, kwargs, tracing_options)\u001b[0m\n\u001b[1;32m    137\u001b[0m   \u001b[0mbound_args\u001b[0m \u001b[0;34m=\u001b[0m \u001b[0mfunction\u001b[0m\u001b[0;34m.\u001b[0m\u001b[0mfunction_type\u001b[0m\u001b[0;34m.\u001b[0m\u001b[0mbind\u001b[0m\u001b[0;34m(\u001b[0m\u001b[0;34m*\u001b[0m\u001b[0margs\u001b[0m\u001b[0;34m,\u001b[0m \u001b[0;34m**\u001b[0m\u001b[0mkwargs\u001b[0m\u001b[0;34m)\u001b[0m\u001b[0;34m\u001b[0m\u001b[0;34m\u001b[0m\u001b[0m\n\u001b[1;32m    138\u001b[0m   \u001b[0mflat_inputs\u001b[0m \u001b[0;34m=\u001b[0m \u001b[0mfunction\u001b[0m\u001b[0;34m.\u001b[0m\u001b[0mfunction_type\u001b[0m\u001b[0;34m.\u001b[0m\u001b[0munpack_inputs\u001b[0m\u001b[0;34m(\u001b[0m\u001b[0mbound_args\u001b[0m\u001b[0;34m)\u001b[0m\u001b[0;34m\u001b[0m\u001b[0;34m\u001b[0m\u001b[0m\n\u001b[0;32m--> 139\u001b[0;31m   return function._call_flat(  # pylint: disable=protected-access\n\u001b[0m\u001b[1;32m    140\u001b[0m       \u001b[0mflat_inputs\u001b[0m\u001b[0;34m,\u001b[0m \u001b[0mcaptured_inputs\u001b[0m\u001b[0;34m=\u001b[0m\u001b[0mfunction\u001b[0m\u001b[0;34m.\u001b[0m\u001b[0mcaptured_inputs\u001b[0m\u001b[0;34m\u001b[0m\u001b[0;34m\u001b[0m\u001b[0m\n\u001b[1;32m    141\u001b[0m   )\n",
            "\u001b[0;32m/usr/local/lib/python3.10/dist-packages/tensorflow/python/eager/polymorphic_function/concrete_function.py\u001b[0m in \u001b[0;36m_call_flat\u001b[0;34m(self, tensor_inputs, captured_inputs)\u001b[0m\n\u001b[1;32m   1321\u001b[0m         and executing_eagerly):\n\u001b[1;32m   1322\u001b[0m       \u001b[0;31m# No tape is watching; skip to running the function.\u001b[0m\u001b[0;34m\u001b[0m\u001b[0;34m\u001b[0m\u001b[0m\n\u001b[0;32m-> 1323\u001b[0;31m       \u001b[0;32mreturn\u001b[0m \u001b[0mself\u001b[0m\u001b[0;34m.\u001b[0m\u001b[0m_inference_function\u001b[0m\u001b[0;34m.\u001b[0m\u001b[0mcall_preflattened\u001b[0m\u001b[0;34m(\u001b[0m\u001b[0margs\u001b[0m\u001b[0;34m)\u001b[0m\u001b[0;34m\u001b[0m\u001b[0;34m\u001b[0m\u001b[0m\n\u001b[0m\u001b[1;32m   1324\u001b[0m     forward_backward = self._select_forward_and_backward_functions(\n\u001b[1;32m   1325\u001b[0m         \u001b[0margs\u001b[0m\u001b[0;34m,\u001b[0m\u001b[0;34m\u001b[0m\u001b[0;34m\u001b[0m\u001b[0m\n",
            "\u001b[0;32m/usr/local/lib/python3.10/dist-packages/tensorflow/python/eager/polymorphic_function/atomic_function.py\u001b[0m in \u001b[0;36mcall_preflattened\u001b[0;34m(self, args)\u001b[0m\n\u001b[1;32m    214\u001b[0m   \u001b[0;32mdef\u001b[0m \u001b[0mcall_preflattened\u001b[0m\u001b[0;34m(\u001b[0m\u001b[0mself\u001b[0m\u001b[0;34m,\u001b[0m \u001b[0margs\u001b[0m\u001b[0;34m:\u001b[0m \u001b[0mSequence\u001b[0m\u001b[0;34m[\u001b[0m\u001b[0mcore\u001b[0m\u001b[0;34m.\u001b[0m\u001b[0mTensor\u001b[0m\u001b[0;34m]\u001b[0m\u001b[0;34m)\u001b[0m \u001b[0;34m->\u001b[0m \u001b[0mAny\u001b[0m\u001b[0;34m:\u001b[0m\u001b[0;34m\u001b[0m\u001b[0;34m\u001b[0m\u001b[0m\n\u001b[1;32m    215\u001b[0m     \u001b[0;34m\"\"\"Calls with flattened tensor inputs and returns the structured output.\"\"\"\u001b[0m\u001b[0;34m\u001b[0m\u001b[0;34m\u001b[0m\u001b[0m\n\u001b[0;32m--> 216\u001b[0;31m     \u001b[0mflat_outputs\u001b[0m \u001b[0;34m=\u001b[0m \u001b[0mself\u001b[0m\u001b[0;34m.\u001b[0m\u001b[0mcall_flat\u001b[0m\u001b[0;34m(\u001b[0m\u001b[0;34m*\u001b[0m\u001b[0margs\u001b[0m\u001b[0;34m)\u001b[0m\u001b[0;34m\u001b[0m\u001b[0;34m\u001b[0m\u001b[0m\n\u001b[0m\u001b[1;32m    217\u001b[0m     \u001b[0;32mreturn\u001b[0m \u001b[0mself\u001b[0m\u001b[0;34m.\u001b[0m\u001b[0mfunction_type\u001b[0m\u001b[0;34m.\u001b[0m\u001b[0mpack_output\u001b[0m\u001b[0;34m(\u001b[0m\u001b[0mflat_outputs\u001b[0m\u001b[0;34m)\u001b[0m\u001b[0;34m\u001b[0m\u001b[0;34m\u001b[0m\u001b[0m\n\u001b[1;32m    218\u001b[0m \u001b[0;34m\u001b[0m\u001b[0m\n",
            "\u001b[0;32m/usr/local/lib/python3.10/dist-packages/tensorflow/python/eager/polymorphic_function/atomic_function.py\u001b[0m in \u001b[0;36mcall_flat\u001b[0;34m(self, *args)\u001b[0m\n\u001b[1;32m    249\u001b[0m         \u001b[0;32mwith\u001b[0m \u001b[0mrecord\u001b[0m\u001b[0;34m.\u001b[0m\u001b[0mstop_recording\u001b[0m\u001b[0;34m(\u001b[0m\u001b[0;34m)\u001b[0m\u001b[0;34m:\u001b[0m\u001b[0;34m\u001b[0m\u001b[0;34m\u001b[0m\u001b[0m\n\u001b[1;32m    250\u001b[0m           \u001b[0;32mif\u001b[0m \u001b[0mself\u001b[0m\u001b[0;34m.\u001b[0m\u001b[0m_bound_context\u001b[0m\u001b[0;34m.\u001b[0m\u001b[0mexecuting_eagerly\u001b[0m\u001b[0;34m(\u001b[0m\u001b[0;34m)\u001b[0m\u001b[0;34m:\u001b[0m\u001b[0;34m\u001b[0m\u001b[0;34m\u001b[0m\u001b[0m\n\u001b[0;32m--> 251\u001b[0;31m             outputs = self._bound_context.call_function(\n\u001b[0m\u001b[1;32m    252\u001b[0m                 \u001b[0mself\u001b[0m\u001b[0;34m.\u001b[0m\u001b[0mname\u001b[0m\u001b[0;34m,\u001b[0m\u001b[0;34m\u001b[0m\u001b[0;34m\u001b[0m\u001b[0m\n\u001b[1;32m    253\u001b[0m                 \u001b[0mlist\u001b[0m\u001b[0;34m(\u001b[0m\u001b[0margs\u001b[0m\u001b[0;34m)\u001b[0m\u001b[0;34m,\u001b[0m\u001b[0;34m\u001b[0m\u001b[0;34m\u001b[0m\u001b[0m\n",
            "\u001b[0;32m/usr/local/lib/python3.10/dist-packages/tensorflow/python/eager/context.py\u001b[0m in \u001b[0;36mcall_function\u001b[0;34m(self, name, tensor_inputs, num_outputs)\u001b[0m\n\u001b[1;32m   1484\u001b[0m     \u001b[0mcancellation_context\u001b[0m \u001b[0;34m=\u001b[0m \u001b[0mcancellation\u001b[0m\u001b[0;34m.\u001b[0m\u001b[0mcontext\u001b[0m\u001b[0;34m(\u001b[0m\u001b[0;34m)\u001b[0m\u001b[0;34m\u001b[0m\u001b[0;34m\u001b[0m\u001b[0m\n\u001b[1;32m   1485\u001b[0m     \u001b[0;32mif\u001b[0m \u001b[0mcancellation_context\u001b[0m \u001b[0;32mis\u001b[0m \u001b[0;32mNone\u001b[0m\u001b[0;34m:\u001b[0m\u001b[0;34m\u001b[0m\u001b[0;34m\u001b[0m\u001b[0m\n\u001b[0;32m-> 1486\u001b[0;31m       outputs = execute.execute(\n\u001b[0m\u001b[1;32m   1487\u001b[0m           \u001b[0mname\u001b[0m\u001b[0;34m.\u001b[0m\u001b[0mdecode\u001b[0m\u001b[0;34m(\u001b[0m\u001b[0;34m\"utf-8\"\u001b[0m\u001b[0;34m)\u001b[0m\u001b[0;34m,\u001b[0m\u001b[0;34m\u001b[0m\u001b[0;34m\u001b[0m\u001b[0m\n\u001b[1;32m   1488\u001b[0m           \u001b[0mnum_outputs\u001b[0m\u001b[0;34m=\u001b[0m\u001b[0mnum_outputs\u001b[0m\u001b[0;34m,\u001b[0m\u001b[0;34m\u001b[0m\u001b[0;34m\u001b[0m\u001b[0m\n",
            "\u001b[0;32m/usr/local/lib/python3.10/dist-packages/tensorflow/python/eager/execute.py\u001b[0m in \u001b[0;36mquick_execute\u001b[0;34m(op_name, num_outputs, inputs, attrs, ctx, name)\u001b[0m\n\u001b[1;32m     51\u001b[0m   \u001b[0;32mtry\u001b[0m\u001b[0;34m:\u001b[0m\u001b[0;34m\u001b[0m\u001b[0;34m\u001b[0m\u001b[0m\n\u001b[1;32m     52\u001b[0m     \u001b[0mctx\u001b[0m\u001b[0;34m.\u001b[0m\u001b[0mensure_initialized\u001b[0m\u001b[0;34m(\u001b[0m\u001b[0;34m)\u001b[0m\u001b[0;34m\u001b[0m\u001b[0;34m\u001b[0m\u001b[0m\n\u001b[0;32m---> 53\u001b[0;31m     tensors = pywrap_tfe.TFE_Py_Execute(ctx._handle, device_name, op_name,\n\u001b[0m\u001b[1;32m     54\u001b[0m                                         inputs, attrs, num_outputs)\n\u001b[1;32m     55\u001b[0m   \u001b[0;32mexcept\u001b[0m \u001b[0mcore\u001b[0m\u001b[0;34m.\u001b[0m\u001b[0m_NotOkStatusException\u001b[0m \u001b[0;32mas\u001b[0m \u001b[0me\u001b[0m\u001b[0;34m:\u001b[0m\u001b[0;34m\u001b[0m\u001b[0;34m\u001b[0m\u001b[0m\n",
            "\u001b[0;31mKeyboardInterrupt\u001b[0m: "
          ]
        }
      ]
    },
    {
      "cell_type": "markdown",
      "id": "d23b2f4c",
      "metadata": {
        "id": "d23b2f4c"
      },
      "source": [
        "**Q1.3** Plot the train and validation losses and and accuracies. Do not forget to add labels What can you say about the model over/underfitting? Would you continue training it, or stop earlier? Why?"
      ]
    },
    {
      "cell_type": "markdown",
      "id": "a62559dd",
      "metadata": {
        "id": "a62559dd"
      },
      "source": [
        "It seems as though there is a slight overfitting beyond 1 epoch, considering that the training loss is lower than the validation loss, and that the training accuracy is higher than the validation accuracy at all subsequent epochs. I would stop the model at around 2 epochs as that is where we observe that the validation loss and accuracy both start to plateau."
      ]
    },
    {
      "cell_type": "code",
      "execution_count": 30,
      "id": "5dd24bce",
      "metadata": {
        "id": "5dd24bce",
        "colab": {
          "base_uri": "https://localhost:8080/",
          "height": 656
        },
        "outputId": "000b95f6-632a-46b6-edaf-6f8f28c60469"
      },
      "outputs": [
        {
          "output_type": "display_data",
          "data": {
            "text/plain": [
              "<Figure size 640x480 with 1 Axes>"
            ],
            "image/png": "[encoded data removed]"
          },
          "metadata": {}
        },
        {
          "output_type": "error",
          "ename": "KeyError",
          "evalue": "'accuracy'",
          "traceback": [
            "\u001b[0;31m---------------------------------------------------------------------------\u001b[0m",
            "\u001b[0;31mKeyError\u001b[0m                                  Traceback (most recent call last)",
            "\u001b[0;32m<ipython-input-30-3b2f9f3c96ad>\u001b[0m in \u001b[0;36m<cell line: 12>\u001b[0;34m()\u001b[0m\n\u001b[1;32m     10\u001b[0m \u001b[0;34m\u001b[0m\u001b[0m\n\u001b[1;32m     11\u001b[0m \u001b[0;31m# Plot accuracies\u001b[0m\u001b[0;34m\u001b[0m\u001b[0;34m\u001b[0m\u001b[0m\n\u001b[0;32m---> 12\u001b[0;31m \u001b[0mplt\u001b[0m\u001b[0;34m.\u001b[0m\u001b[0mplot\u001b[0m\u001b[0;34m(\u001b[0m\u001b[0mhistory\u001b[0m\u001b[0;34m.\u001b[0m\u001b[0mhistory\u001b[0m\u001b[0;34m[\u001b[0m\u001b[0;34m\"accuracy\"\u001b[0m\u001b[0;34m]\u001b[0m\u001b[0;34m,\u001b[0m \u001b[0mlabel\u001b[0m\u001b[0;34m=\u001b[0m\u001b[0;34m'Training Accuracy'\u001b[0m\u001b[0;34m)\u001b[0m\u001b[0;34m\u001b[0m\u001b[0;34m\u001b[0m\u001b[0m\n\u001b[0m\u001b[1;32m     13\u001b[0m \u001b[0mplt\u001b[0m\u001b[0;34m.\u001b[0m\u001b[0mplot\u001b[0m\u001b[0;34m(\u001b[0m\u001b[0mhistory\u001b[0m\u001b[0;34m.\u001b[0m\u001b[0mhistory\u001b[0m\u001b[0;34m[\u001b[0m\u001b[0;34m\"val_accuracy\"\u001b[0m\u001b[0;34m]\u001b[0m\u001b[0;34m,\u001b[0m \u001b[0mlabel\u001b[0m\u001b[0;34m=\u001b[0m\u001b[0;34m'Validation Accuracy'\u001b[0m\u001b[0;34m)\u001b[0m\u001b[0;34m\u001b[0m\u001b[0;34m\u001b[0m\u001b[0m\n\u001b[1;32m     14\u001b[0m \u001b[0mplt\u001b[0m\u001b[0;34m.\u001b[0m\u001b[0mylabel\u001b[0m\u001b[0;34m(\u001b[0m\u001b[0;34m'Accuracy'\u001b[0m\u001b[0;34m)\u001b[0m\u001b[0;34m\u001b[0m\u001b[0;34m\u001b[0m\u001b[0m\n",
            "\u001b[0;31mKeyError\u001b[0m: 'accuracy'"
          ]
        }
      ],
      "source": [
        "# Plot losses\n",
        "plt.plot(history.history[\"loss\"], label='Training Loss')\n",
        "plt.plot(history.history[\"val_loss\"], label='Validation Loss')\n",
        "plt.ylabel('Loss')\n",
        "plt.xlabel('Epochs')\n",
        "plt.grid()\n",
        "plt.legend()\n",
        "plt.title('Training and Validation Losses')\n",
        "plt.show()\n",
        "\n",
        "# Plot accuracies\n",
        "plt.plot(history.history[\"accuracy\"], label='Training Accuracy')\n",
        "plt.plot(history.history[\"val_accuracy\"], label='Validation Accuracy')\n",
        "plt.ylabel('Accuracy')\n",
        "plt.xlabel('Epochs')\n",
        "plt.grid()\n",
        "plt.legend()\n",
        "plt.title('Training and Validation Accuracies')\n",
        "plt.show()"
      ]
    },
    {
      "cell_type": "markdown",
      "id": "1a6f0d4c",
      "metadata": {
        "id": "1a6f0d4c"
      },
      "source": [
        "# Q2 RNNs\n",
        "\n",
        "An RNN (Recurrent Neural Network) is a type of artificial neural network that is particularly effective in processing sequential data. Unlike feedforward neural networks, which process inputs independently, RNNs have connections that allow information to flow in cycles. This cyclic connectivity enables them to capture temporal dependencies and learn patterns over time. You can find more in these [neural network lecture notes (Jaeger 2023, chapter 4)](https://www.ai.rug.nl/minds/uploads/LN_NN_RUG.pdf). Here is an overview of how RNNs work:\n",
        "\n",
        "- **Recurrent Connections**: RNNs have recurrent connections that allow information to be passed from one step to the next in a sequence. At each time step, the RNN takes an input and combines it with the information from the previous step. This feedback loop enables the network to have memory and make predictions based on the context of past inputs.\n",
        "\n",
        "- **Hidden State**: RNNs maintain a hidden state vector that serves as a memory of the network. The hidden state is updated at each time step and contains information about the previous inputs in the sequence. It captures the network's understanding of the sequence up to that point and is used to influence the processing of future inputs.\n",
        "\n",
        "- **Sequence Processing**: RNNs process sequences by iterating through each element one at a time. As the network receives an input at each time step, it updates its hidden state based on the input and the previous hidden state. The updated hidden state is then used to make predictions or generate outputs.\n",
        "\n",
        "- **Long Short-Term Memory (LSTM) and Gated Recurrent Units (GRU)**: LSTMs and GRUs are popular types of RNN architectures that address the vanishing gradient problem and capture long-term dependencies more effectively. These architectures introduce specialized memory cells and gating mechanisms that allow the network to selectively update and forget information.\n",
        "\n",
        "- **Training**: RNNs are typically trained using the backpropagation through time (BPTT) algorithm, which extends backpropagation to handle sequences. The goal is to minimize the difference between the predicted outputs and the true targets by adjusting the network's parameters through gradient descent optimization.\n",
        "\n",
        "- **Applications**: RNNs are well-suited for tasks involving sequential data, such as natural language processing, speech recognition, machine translation, time series analysis, and sentiment analysis. They can effectively model dependencies and capture context in these domains.\n",
        "\n",
        "By leveraging recurrent connections and hidden state information, RNNs excel at processing and understanding sequential data. They are powerful tools for tasks that require temporal modeling and have made significant contributions to the field of deep learning.\n",
        "\n",
        "Here, we'll use LSTMs to regress on the [Air Passengers](https://www.kaggle.com/datasets/chirag19/air-passengers) dataset, providing monthly totals of a US airline passengers from 1949 to 1960."
      ]
    },
    {
      "cell_type": "code",
      "execution_count": 19,
      "id": "30df3ae3",
      "metadata": {
        "id": "30df3ae3"
      },
      "outputs": [],
      "source": [
        "from sklearn.preprocessing import MinMaxScaler\n",
        "from sklearn.metrics import mean_squared_error\n",
        "\n",
        "# Load the Air Passengers dataset\n",
        "data = pd.read_csv('AirPassengers.csv')\n",
        "time_series = data['#Passengers'].values.astype(float)\n",
        "\n",
        "# preprocess, use a scaler to scale the features to 0 and 1\n",
        "time_series = np.array(time_series).reshape(-1,1)\n",
        "scaler = MinMaxScaler(feature_range=(0, 1))\n",
        "time_series = scaler.fit_transform(time_series)\n",
        "\n",
        "# Split the data into training and testing sets\n",
        "train_data = time_series[:120]  # First 120 months for training\n",
        "test_data = time_series[120:]   # Last 24 months for testing\n",
        "\n",
        "# Function to create input sequences\n",
        "# Goal: Predict the (n+1)th point given n points\n",
        "def create_sequences(data, seq_length):\n",
        "    X = []\n",
        "    y = []\n",
        "    for i in range(len(data) - seq_length):\n",
        "        X.append(data[i:i+seq_length])\n",
        "        y.append(data[i+seq_length])\n",
        "    return np.array(X), np.array(y)\n",
        "\n",
        "# Define sequence length and create input sequences\n",
        "sequence_length = 6\n",
        "X_train, y_train = create_sequences(train_data, sequence_length)\n",
        "X_test, y_test = create_sequences(test_data, sequence_length)\n",
        "\n",
        "# Reshape the input data to be 3D (batch_size, sequence_length, num_features)\n",
        "# Standard practice!\n",
        "X_train = np.reshape(X_train, (X_train.shape[0], X_train.shape[1], 1))\n",
        "X_test = np.reshape(X_test, (X_test.shape[0], X_test.shape[1], 1))"
      ]
    },
    {
      "cell_type": "markdown",
      "id": "db7767c7",
      "metadata": {
        "id": "db7767c7"
      },
      "source": [
        "**Q2.1** Finish the following cell"
      ]
    },
    {
      "cell_type": "code",
      "execution_count": 31,
      "id": "7e9db72a",
      "metadata": {
        "scrolled": false,
        "id": "7e9db72a",
        "colab": {
          "base_uri": "https://localhost:8080/"
        },
        "outputId": "d440e87e-dd9a-4f59-a0a5-1d74f8ce8de1"
      },
      "outputs": [
        {
          "output_type": "stream",
          "name": "stdout",
          "text": [
            "Epoch 1/100\n",
            "3/3 [==============================] - 3s 280ms/step - loss: 0.0937 - val_loss: 0.0916\n",
            "Epoch 2/100\n",
            "3/3 [==============================] - 0s 20ms/step - loss: 0.0914 - val_loss: 0.0977\n",
            "Epoch 3/100\n",
            "3/3 [==============================] - 0s 19ms/step - loss: 0.0914 - val_loss: 0.1005\n",
            "Epoch 4/100\n",
            "3/3 [==============================] - 0s 22ms/step - loss: 0.0915 - val_loss: 0.0975\n",
            "Epoch 5/100\n",
            "3/3 [==============================] - 0s 20ms/step - loss: 0.0910 - val_loss: 0.0939\n",
            "Epoch 6/100\n",
            "3/3 [==============================] - 0s 20ms/step - loss: 0.0906 - val_loss: 0.0915\n",
            "Epoch 7/100\n",
            "3/3 [==============================] - 0s 20ms/step - loss: 0.0905 - val_loss: 0.0905\n",
            "Epoch 8/100\n",
            "3/3 [==============================] - 0s 29ms/step - loss: 0.0904 - val_loss: 0.0903\n",
            "Epoch 9/100\n",
            "3/3 [==============================] - 0s 20ms/step - loss: 0.0903 - val_loss: 0.0903\n",
            "Epoch 10/100\n",
            "3/3 [==============================] - 0s 22ms/step - loss: 0.0901 - val_loss: 0.0904\n",
            "Epoch 11/100\n",
            "3/3 [==============================] - 0s 20ms/step - loss: 0.0901 - val_loss: 0.0904\n",
            "Epoch 12/100\n",
            "3/3 [==============================] - 0s 22ms/step - loss: 0.0901 - val_loss: 0.0902\n",
            "Epoch 13/100\n",
            "3/3 [==============================] - 0s 20ms/step - loss: 0.0900 - val_loss: 0.0900\n",
            "Epoch 14/100\n",
            "3/3 [==============================] - 0s 20ms/step - loss: 0.0900 - val_loss: 0.0900\n",
            "Epoch 15/100\n",
            "3/3 [==============================] - 0s 19ms/step - loss: 0.0900 - val_loss: 0.0901\n",
            "Epoch 16/100\n",
            "3/3 [==============================] - 0s 22ms/step - loss: 0.0900 - val_loss: 0.0901\n",
            "Epoch 17/100\n",
            "3/3 [==============================] - 0s 20ms/step - loss: 0.0900 - val_loss: 0.0901\n",
            "Epoch 18/100\n",
            "3/3 [==============================] - 0s 20ms/step - loss: 0.0900 - val_loss: 0.0900\n",
            "Epoch 19/100\n",
            "3/3 [==============================] - 0s 19ms/step - loss: 0.0900 - val_loss: 0.0900\n",
            "Epoch 20/100\n",
            "3/3 [==============================] - 0s 22ms/step - loss: 0.0900 - val_loss: 0.0901\n",
            "Epoch 21/100\n",
            "3/3 [==============================] - 0s 19ms/step - loss: 0.0900 - val_loss: 0.0901\n",
            "Epoch 22/100\n",
            "3/3 [==============================] - 0s 20ms/step - loss: 0.0900 - val_loss: 0.0901\n",
            "Epoch 23/100\n",
            "3/3 [==============================] - 0s 19ms/step - loss: 0.0900 - val_loss: 0.0900\n",
            "Epoch 24/100\n",
            "3/3 [==============================] - 0s 19ms/step - loss: 0.0900 - val_loss: 0.0900\n",
            "Epoch 25/100\n",
            "3/3 [==============================] - 0s 19ms/step - loss: 0.0900 - val_loss: 0.0900\n",
            "Epoch 26/100\n",
            "3/3 [==============================] - 0s 24ms/step - loss: 0.0900 - val_loss: 0.0900\n",
            "Epoch 27/100\n",
            "3/3 [==============================] - 0s 19ms/step - loss: 0.0900 - val_loss: 0.0900\n",
            "Epoch 28/100\n",
            "3/3 [==============================] - 0s 20ms/step - loss: 0.0900 - val_loss: 0.0900\n",
            "Epoch 29/100\n",
            "3/3 [==============================] - 0s 30ms/step - loss: 0.0900 - val_loss: 0.0900\n",
            "Epoch 30/100\n",
            "3/3 [==============================] - 0s 22ms/step - loss: 0.0900 - val_loss: 0.0900\n",
            "Epoch 31/100\n",
            "3/3 [==============================] - 0s 20ms/step - loss: 0.0900 - val_loss: 0.0900\n",
            "Epoch 32/100\n",
            "3/3 [==============================] - 0s 21ms/step - loss: 0.0900 - val_loss: 0.0900\n",
            "Epoch 33/100\n",
            "3/3 [==============================] - 0s 20ms/step - loss: 0.0900 - val_loss: 0.0900\n",
            "Epoch 34/100\n",
            "3/3 [==============================] - 0s 22ms/step - loss: 0.0900 - val_loss: 0.0900\n",
            "Epoch 35/100\n",
            "3/3 [==============================] - 0s 20ms/step - loss: 0.0900 - val_loss: 0.0900\n",
            "Epoch 36/100\n",
            "3/3 [==============================] - 0s 20ms/step - loss: 0.0900 - val_loss: 0.0900\n",
            "Epoch 37/100\n",
            "3/3 [==============================] - 0s 19ms/step - loss: 0.0900 - val_loss: 0.0900\n",
            "Epoch 38/100\n",
            "3/3 [==============================] - 0s 19ms/step - loss: 0.0900 - val_loss: 0.0900\n",
            "Epoch 39/100\n",
            "3/3 [==============================] - 0s 21ms/step - loss: 0.0900 - val_loss: 0.0900\n",
            "Epoch 40/100\n",
            "3/3 [==============================] - 0s 21ms/step - loss: 0.0900 - val_loss: 0.0900\n",
            "Epoch 41/100\n",
            "3/3 [==============================] - 0s 19ms/step - loss: 0.0900 - val_loss: 0.0900\n",
            "Epoch 42/100\n",
            "3/3 [==============================] - 0s 20ms/step - loss: 0.0900 - val_loss: 0.0900\n",
            "Epoch 43/100\n",
            "3/3 [==============================] - 0s 21ms/step - loss: 0.0900 - val_loss: 0.0900\n",
            "Epoch 44/100\n",
            "3/3 [==============================] - 0s 20ms/step - loss: 0.0900 - val_loss: 0.0900\n",
            "Epoch 45/100\n",
            "3/3 [==============================] - 0s 20ms/step - loss: 0.0900 - val_loss: 0.0900\n",
            "Epoch 46/100\n",
            "3/3 [==============================] - 0s 20ms/step - loss: 0.0900 - val_loss: 0.0900\n",
            "Epoch 47/100\n",
            "3/3 [==============================] - 0s 21ms/step - loss: 0.0900 - val_loss: 0.0900\n",
            "Epoch 48/100\n",
            "3/3 [==============================] - 0s 25ms/step - loss: 0.0900 - val_loss: 0.0900\n",
            "Epoch 49/100\n",
            "3/3 [==============================] - 0s 20ms/step - loss: 0.0900 - val_loss: 0.0900\n",
            "Epoch 50/100\n",
            "3/3 [==============================] - 0s 21ms/step - loss: 0.0900 - val_loss: 0.0900\n",
            "Epoch 51/100\n",
            "3/3 [==============================] - 0s 21ms/step - loss: 0.0900 - val_loss: 0.0900\n",
            "Epoch 52/100\n",
            "3/3 [==============================] - 0s 20ms/step - loss: 0.0900 - val_loss: 0.0900\n",
            "Epoch 53/100\n",
            "3/3 [==============================] - 0s 20ms/step - loss: 0.0900 - val_loss: 0.0900\n",
            "Epoch 54/100\n",
            "3/3 [==============================] - 0s 21ms/step - loss: 0.0900 - val_loss: 0.0900\n",
            "Epoch 55/100\n",
            "3/3 [==============================] - 0s 23ms/step - loss: 0.0900 - val_loss: 0.0900\n",
            "Epoch 56/100\n",
            "3/3 [==============================] - 0s 20ms/step - loss: 0.0900 - val_loss: 0.0900\n",
            "Epoch 57/100\n",
            "3/3 [==============================] - 0s 20ms/step - loss: 0.0900 - val_loss: 0.0900\n",
            "Epoch 58/100\n",
            "3/3 [==============================] - 0s 22ms/step - loss: 0.0900 - val_loss: 0.0900\n",
            "Epoch 59/100\n",
            "3/3 [==============================] - 0s 23ms/step - loss: 0.0900 - val_loss: 0.0900\n",
            "Epoch 60/100\n",
            "3/3 [==============================] - 0s 29ms/step - loss: 0.0900 - val_loss: 0.0900\n",
            "Epoch 61/100\n",
            "3/3 [==============================] - 0s 20ms/step - loss: 0.0900 - val_loss: 0.0900\n",
            "Epoch 62/100\n",
            "3/3 [==============================] - 0s 29ms/step - loss: 0.0900 - val_loss: 0.0900\n",
            "Epoch 63/100\n",
            "3/3 [==============================] - 0s 20ms/step - loss: 0.0900 - val_loss: 0.0900\n",
            "Epoch 64/100\n",
            "3/3 [==============================] - 0s 20ms/step - loss: 0.0900 - val_loss: 0.0900\n",
            "Epoch 65/100\n",
            "3/3 [==============================] - 0s 19ms/step - loss: 0.0900 - val_loss: 0.0900\n",
            "Epoch 66/100\n",
            "3/3 [==============================] - 0s 25ms/step - loss: 0.0900 - val_loss: 0.0900\n",
            "Epoch 67/100\n",
            "3/3 [==============================] - 0s 20ms/step - loss: 0.0900 - val_loss: 0.0900\n",
            "Epoch 68/100\n",
            "3/3 [==============================] - 0s 19ms/step - loss: 0.0900 - val_loss: 0.0900\n",
            "Epoch 69/100\n",
            "3/3 [==============================] - 0s 19ms/step - loss: 0.0900 - val_loss: 0.0900\n",
            "Epoch 70/100\n",
            "3/3 [==============================] - 0s 20ms/step - loss: 0.0900 - val_loss: 0.0900\n",
            "Epoch 71/100\n",
            "3/3 [==============================] - 0s 21ms/step - loss: 0.0900 - val_loss: 0.0900\n",
            "Epoch 72/100\n",
            "3/3 [==============================] - 0s 44ms/step - loss: 0.0900 - val_loss: 0.0900\n",
            "Epoch 73/100\n",
            "3/3 [==============================] - 0s 53ms/step - loss: 0.0900 - val_loss: 0.0900\n",
            "Epoch 74/100\n",
            "3/3 [==============================] - 0s 24ms/step - loss: 0.0900 - val_loss: 0.0900\n",
            "Epoch 75/100\n",
            "3/3 [==============================] - 0s 24ms/step - loss: 0.0900 - val_loss: 0.0900\n",
            "Epoch 76/100\n",
            "3/3 [==============================] - 0s 25ms/step - loss: 0.0900 - val_loss: 0.0900\n",
            "Epoch 77/100\n",
            "3/3 [==============================] - 0s 24ms/step - loss: 0.0900 - val_loss: 0.0900\n",
            "Epoch 78/100\n",
            "3/3 [==============================] - 0s 27ms/step - loss: 0.0900 - val_loss: 0.0900\n",
            "Epoch 79/100\n",
            "3/3 [==============================] - 0s 33ms/step - loss: 0.0900 - val_loss: 0.0900\n",
            "Epoch 80/100\n",
            "3/3 [==============================] - 0s 34ms/step - loss: 0.0900 - val_loss: 0.0900\n",
            "Epoch 81/100\n",
            "3/3 [==============================] - 0s 26ms/step - loss: 0.0900 - val_loss: 0.0900\n",
            "Epoch 82/100\n",
            "3/3 [==============================] - 0s 26ms/step - loss: 0.0900 - val_loss: 0.0900\n",
            "Epoch 83/100\n",
            "3/3 [==============================] - 0s 26ms/step - loss: 0.0900 - val_loss: 0.0900\n",
            "Epoch 84/100\n",
            "3/3 [==============================] - 0s 23ms/step - loss: 0.0900 - val_loss: 0.0900\n",
            "Epoch 85/100\n",
            "3/3 [==============================] - 0s 24ms/step - loss: 0.0900 - val_loss: 0.0900\n",
            "Epoch 86/100\n",
            "3/3 [==============================] - 0s 25ms/step - loss: 0.0900 - val_loss: 0.0900\n",
            "Epoch 87/100\n",
            "3/3 [==============================] - 0s 29ms/step - loss: 0.0900 - val_loss: 0.0900\n",
            "Epoch 88/100\n",
            "3/3 [==============================] - 0s 25ms/step - loss: 0.0900 - val_loss: 0.0900\n",
            "Epoch 89/100\n",
            "3/3 [==============================] - 0s 24ms/step - loss: 0.0900 - val_loss: 0.0900\n",
            "Epoch 90/100\n",
            "3/3 [==============================] - 0s 25ms/step - loss: 0.0900 - val_loss: 0.0900\n",
            "Epoch 91/100\n",
            "3/3 [==============================] - 0s 26ms/step - loss: 0.0900 - val_loss: 0.0900\n",
            "Epoch 92/100\n",
            "3/3 [==============================] - 0s 28ms/step - loss: 0.0900 - val_loss: 0.0900\n",
            "Epoch 93/100\n",
            "3/3 [==============================] - 0s 24ms/step - loss: 0.0900 - val_loss: 0.0900\n",
            "Epoch 94/100\n",
            "3/3 [==============================] - 0s 25ms/step - loss: 0.0900 - val_loss: 0.0900\n",
            "Epoch 95/100\n",
            "3/3 [==============================] - 0s 42ms/step - loss: 0.0900 - val_loss: 0.0900\n",
            "Epoch 96/100\n",
            "3/3 [==============================] - 0s 25ms/step - loss: 0.0900 - val_loss: 0.0900\n",
            "Epoch 97/100\n",
            "3/3 [==============================] - 0s 25ms/step - loss: 0.0900 - val_loss: 0.0900\n",
            "Epoch 98/100\n",
            "3/3 [==============================] - 0s 32ms/step - loss: 0.0900 - val_loss: 0.0900\n",
            "Epoch 99/100\n",
            "3/3 [==============================] - 0s 25ms/step - loss: 0.0900 - val_loss: 0.0900\n",
            "Epoch 100/100\n",
            "3/3 [==============================] - 0s 31ms/step - loss: 0.0900 - val_loss: 0.0900\n"
          ]
        }
      ],
      "source": [
        "# Build the LSTM model\n",
        "model = keras.Sequential([\n",
        "    keras.layers.LSTM(50, input_shape=(sequence_length, 1)),  # 50 LSTM units, input shape (sequence_length, 1)\n",
        "    keras.layers.Dense(1)  # One output neuron for regression task\n",
        "])\n",
        "\n",
        "# Compile and train the model\n",
        "model.compile(loss='mean_squared_error', optimizer='adam')  # Using mean squared error loss and Adam optimizer\n",
        "history = model.fit(X_train, y_train, epochs=100, batch_size=32, validation_split=0.2)"
      ]
    },
    {
      "cell_type": "markdown",
      "id": "31aebc2f",
      "metadata": {
        "id": "31aebc2f"
      },
      "source": [
        "**Q2.2** Plot the train and validation losses and and accuracies. Do not forget to add labels What can you say about the model over/underfitting? Would you continue training it, or stop earlier? Why?"
      ]
    },
    {
      "cell_type": "markdown",
      "id": "d858b1c6",
      "metadata": {
        "id": "d858b1c6"
      },
      "source": [
        "This time, it seems that there is always a slight overfitting, considering that the training loss is lower than the validation loss at all epochs. I would stop the model at around 6 epochs as that is where we observe that the training loss starts to plateau, while it is also the point right before the validation loss goes up and again."
      ]
    },
    {
      "cell_type": "code",
      "execution_count": 21,
      "id": "2e3f6502",
      "metadata": {
        "id": "2e3f6502",
        "colab": {
          "base_uri": "https://localhost:8080/",
          "height": 471
        },
        "outputId": "323becca-8512-4bb5-99b3-e5b00b503ffe"
      },
      "outputs": [
        {
          "output_type": "display_data",
          "data": {
            "text/plain": [
              "<Figure size 640x480 with 1 Axes>"
            ],
            "image/png": "[encoded data removed]"
          },
          "metadata": {}
        }
      ],
      "source": [
        "# Your code here\n",
        "# Plot losses\n",
        "plt.plot(history.history[\"loss\"], label='Training Loss')\n",
        "plt.plot(history.history[\"val_loss\"], label='Validation Loss')\n",
        "plt.ylabel('Loss')\n",
        "plt.xlabel('Epochs')\n",
        "plt.grid()\n",
        "plt.legend()\n",
        "plt.title('Training and Validation Losses')\n",
        "plt.show()"
      ]
    },
    {
      "cell_type": "markdown",
      "id": "f919f939",
      "metadata": {
        "id": "f919f939"
      },
      "source": [
        "Now, we can make predictions on our test set and evaluate it!\n",
        "\n",
        "**Q2.3** Finish the following cell"
      ]
    },
    {
      "cell_type": "code",
      "execution_count": 25,
      "id": "9559bb91",
      "metadata": {
        "id": "9559bb91",
        "colab": {
          "base_uri": "https://localhost:8080/",
          "height": 367
        },
        "outputId": "1a83063c-f1a9-42ff-932a-04647dd3deb7"
      },
      "outputs": [
        {
          "output_type": "error",
          "ename": "ModuleNotFoundError",
          "evalue": "No module named 'keras_tuner'",
          "traceback": [
            "\u001b[0;31m---------------------------------------------------------------------------\u001b[0m",
            "\u001b[0;31mModuleNotFoundError\u001b[0m                       Traceback (most recent call last)",
            "\u001b[0;32m<ipython-input-25-ee5e963c3c7c>\u001b[0m in \u001b[0;36m<cell line: 1>\u001b[0;34m()\u001b[0m\n\u001b[0;32m----> 1\u001b[0;31m \u001b[0;32mimport\u001b[0m \u001b[0mkeras_tuner\u001b[0m \u001b[0;32mas\u001b[0m \u001b[0mkt\u001b[0m\u001b[0;34m\u001b[0m\u001b[0;34m\u001b[0m\u001b[0m\n\u001b[0m\u001b[1;32m      2\u001b[0m \u001b[0;34m\u001b[0m\u001b[0m\n\u001b[1;32m      3\u001b[0m \u001b[0;31m# Define the model building function for hyperparameter tuning\u001b[0m\u001b[0;34m\u001b[0m\u001b[0;34m\u001b[0m\u001b[0m\n\u001b[1;32m      4\u001b[0m \u001b[0;32mdef\u001b[0m \u001b[0mbuild_model\u001b[0m\u001b[0;34m(\u001b[0m\u001b[0mhp\u001b[0m\u001b[0;34m)\u001b[0m\u001b[0;34m:\u001b[0m\u001b[0;34m\u001b[0m\u001b[0;34m\u001b[0m\u001b[0m\n\u001b[1;32m      5\u001b[0m     \u001b[0mmodel\u001b[0m \u001b[0;34m=\u001b[0m \u001b[0mkeras\u001b[0m\u001b[0;34m.\u001b[0m\u001b[0mSequential\u001b[0m\u001b[0;34m(\u001b[0m\u001b[0;34m)\u001b[0m\u001b[0;34m\u001b[0m\u001b[0;34m\u001b[0m\u001b[0m\n",
            "\u001b[0;31mModuleNotFoundError\u001b[0m: No module named 'keras_tuner'",
            "",
            "\u001b[0;31m---------------------------------------------------------------------------\u001b[0;32m\nNOTE: If your import is failing due to a missing package, you can\nmanually install dependencies using either !pip or !apt.\n\nTo view examples of installing some common dependencies, click the\n\"Open Examples\" button below.\n\u001b[0;31m---------------------------------------------------------------------------\u001b[0m\n"
          ],
          "errorDetails": {
            "actions": [
              {
                "action": "open_url",
                "actionText": "Open Examples",
                "url": "/notebooks/snippets/importing_libraries.ipynb"
              }
            ]
          }
        }
      ],
      "source": [
        "import keras_tuner as kt\n",
        "\n",
        "# Define the model building function for hyperparameter tuning\n",
        "def build_model(hp):\n",
        "    model = keras.Sequential()\n",
        "    model.add(keras.layers.LSTM(units=hp.Int('units', min_value=32, max_value=256, step=32),\n",
        "                                 input_shape=(sequence_length, 1),\n",
        "                                 return_sequences=True))\n",
        "    model.add(keras.layers.Dropout(rate=hp.Float('dropout_rate', min_value=0.0, max_value=0.5, step=0.1)))\n",
        "    model.add(keras.layers.LSTM(units=hp.Int('units', min_value=32, max_value=256, step=32)))\n",
        "    model.add(keras.layers.Dense(1))\n",
        "    model.compile(loss='mean_squared_error', optimizer='adam')\n",
        "    return model\n",
        "\n",
        "# Instantiate the tuner and perform random search\n",
        "tuner = kt.RandomSearch(build_model,\n",
        "                         objective='val_loss',\n",
        "                         max_trials=5,\n",
        "                         directory='hyperparameter_tuning',\n",
        "                         project_name='lstm_hyperparameter_tuning')\n",
        "\n",
        "# Define the callback to stop training if no improvement in validation loss\n",
        "stop_early = keras.callbacks.EarlyStopping(monitor='val_loss', patience=5)\n",
        "\n",
        "# Perform hyperparameter search\n",
        "tuner.search(X_train, y_train,\n",
        "             epochs=50,\n",
        "             validation_split=0.2,\n",
        "             callbacks=[stop_early])\n",
        "\n",
        "# Get the best hyperparameters\n",
        "best_hps=tuner.get_best_hyperparameters(num_trials=1)[0]\n",
        "\n",
        "# Build the model with the best hyperparameters\n",
        "model = tuner.hypermodel.build(best_hps)\n",
        "\n",
        "# Train the model with the best hyperparameters\n",
        "history = model.fit(X_train, y_train, epochs=100, batch_size=32, validation_split=0.2)"
      ]
    },
    {
      "cell_type": "markdown",
      "id": "27f95144",
      "metadata": {
        "id": "27f95144"
      },
      "source": [
        "**Q2.4** Does the model do well? Write three ideas on how you would make it better. Implement at least one of these ideas and rerun your code, and report your results."
      ]
    },
    {
      "cell_type": "markdown",
      "id": "f43335a9",
      "metadata": {
        "id": "f43335a9"
      },
      "source": [
        "Considering the train and test scores reported, it seems that the model is not performing very accurately, and we can definitely make it better. We also observe the same visually, as the predictions seem to take much more conservative fluctuations that the real data. Therefore, we can increase the complexity, implement hyperparameter tuning, or regularization."
      ]
    },
    {
      "cell_type": "code",
      "source": [
        "# Build the LSTM model with dropout regularization\n",
        "model = keras.Sequential([\n",
        "    keras.layers.LSTM(100, input_shape=(sequence_length, 1), dropout=0.2),  # Increase LSTM units to 100 and add dropout\n",
        "    keras.layers.Dense(1)  # One output neuron for regression task\n",
        "])\n",
        "\n",
        "# Compile and train the model\n",
        "model.compile(loss='mean_squared_error', optimizer='adam')  # Using mean squared error loss and Adam optimizer\n",
        "history = model.fit(X_train, y_train, epochs=100, batch_size=32, validation_split=0.2)\n",
        "\n",
        "# Predict on the test set\n",
        "train_preds = model.predict(X_train)\n",
        "test_preds = model.predict(X_test)\n",
        "\n",
        "# Invert predictions to make them original scale\n",
        "train_preds = scaler.inverse_transform(train_preds)\n",
        "y_train = scaler.inverse_transform(y_train)\n",
        "test_preds = scaler.inverse_transform(test_preds)\n",
        "y_test = scaler.inverse_transform(y_test)\n",
        "\n",
        "# Calculate root mean squared error\n",
        "train_score = mean_squared_error(y_train, train_preds)\n",
        "test_score = mean_squared_error(y_test, test_preds)\n",
        "\n",
        "print('Train Score: %.2f (MSE)' % (train_score))\n",
        "print('Test Score: %.2f (MSE)' % (test_score))"
      ],
      "metadata": {
        "colab": {
          "base_uri": "https://localhost:8080/"
        },
        "id": "kdLsQKlR7RUH",
        "outputId": "356a54cd-bd17-45c6-bbf8-e7366f8ba04f"
      },
      "id": "kdLsQKlR7RUH",
      "execution_count": 24,
      "outputs": [
        {
          "output_type": "stream",
          "name": "stdout",
          "text": [
            "Epoch 1/100\n",
            "3/3 [==============================] - 3s 295ms/step - loss: 0.0659 - val_loss: 0.2178\n",
            "Epoch 2/100\n",
            "3/3 [==============================] - 0s 26ms/step - loss: 0.0402 - val_loss: 0.1355\n",
            "Epoch 3/100\n",
            "3/3 [==============================] - 0s 21ms/step - loss: 0.0220 - val_loss: 0.0725\n",
            "Epoch 4/100\n",
            "3/3 [==============================] - 0s 28ms/step - loss: 0.0108 - val_loss: 0.0330\n",
            "Epoch 5/100\n",
            "3/3 [==============================] - 0s 28ms/step - loss: 0.0097 - val_loss: 0.0204\n",
            "Epoch 6/100\n",
            "3/3 [==============================] - 0s 31ms/step - loss: 0.0145 - val_loss: 0.0200\n",
            "Epoch 7/100\n",
            "3/3 [==============================] - 0s 22ms/step - loss: 0.0116 - val_loss: 0.0228\n",
            "Epoch 8/100\n",
            "3/3 [==============================] - 0s 26ms/step - loss: 0.0084 - val_loss: 0.0302\n",
            "Epoch 9/100\n",
            "3/3 [==============================] - 0s 22ms/step - loss: 0.0076 - val_loss: 0.0379\n",
            "Epoch 10/100\n",
            "3/3 [==============================] - 0s 23ms/step - loss: 0.0086 - val_loss: 0.0418\n",
            "Epoch 11/100\n",
            "3/3 [==============================] - 0s 24ms/step - loss: 0.0081 - val_loss: 0.0410\n",
            "Epoch 12/100\n",
            "3/3 [==============================] - 0s 23ms/step - loss: 0.0081 - val_loss: 0.0376\n",
            "Epoch 13/100\n",
            "3/3 [==============================] - 0s 25ms/step - loss: 0.0088 - val_loss: 0.0320\n",
            "Epoch 14/100\n",
            "3/3 [==============================] - 0s 27ms/step - loss: 0.0069 - val_loss: 0.0270\n",
            "Epoch 15/100\n",
            "3/3 [==============================] - 0s 27ms/step - loss: 0.0087 - val_loss: 0.0241\n",
            "Epoch 16/100\n",
            "3/3 [==============================] - 0s 24ms/step - loss: 0.0079 - val_loss: 0.0242\n",
            "Epoch 17/100\n",
            "3/3 [==============================] - 0s 27ms/step - loss: 0.0074 - val_loss: 0.0259\n",
            "Epoch 18/100\n",
            "3/3 [==============================] - 0s 25ms/step - loss: 0.0079 - val_loss: 0.0269\n",
            "Epoch 19/100\n",
            "3/3 [==============================] - 0s 23ms/step - loss: 0.0081 - val_loss: 0.0272\n",
            "Epoch 20/100\n",
            "3/3 [==============================] - 0s 36ms/step - loss: 0.0072 - val_loss: 0.0268\n",
            "Epoch 21/100\n",
            "3/3 [==============================] - 0s 26ms/step - loss: 0.0081 - val_loss: 0.0253\n",
            "Epoch 22/100\n",
            "3/3 [==============================] - 0s 35ms/step - loss: 0.0079 - val_loss: 0.0243\n",
            "Epoch 23/100\n",
            "3/3 [==============================] - 0s 24ms/step - loss: 0.0061 - val_loss: 0.0234\n",
            "Epoch 24/100\n",
            "3/3 [==============================] - 0s 24ms/step - loss: 0.0068 - val_loss: 0.0239\n",
            "Epoch 25/100\n",
            "3/3 [==============================] - 0s 23ms/step - loss: 0.0057 - val_loss: 0.0243\n",
            "Epoch 26/100\n",
            "3/3 [==============================] - 0s 36ms/step - loss: 0.0056 - val_loss: 0.0249\n",
            "Epoch 27/100\n",
            "3/3 [==============================] - 0s 40ms/step - loss: 0.0078 - val_loss: 0.0249\n",
            "Epoch 28/100\n",
            "3/3 [==============================] - 0s 35ms/step - loss: 0.0048 - val_loss: 0.0234\n",
            "Epoch 29/100\n",
            "3/3 [==============================] - 0s 40ms/step - loss: 0.0085 - val_loss: 0.0232\n",
            "Epoch 30/100\n",
            "3/3 [==============================] - 0s 43ms/step - loss: 0.0082 - val_loss: 0.0235\n",
            "Epoch 31/100\n",
            "3/3 [==============================] - 0s 32ms/step - loss: 0.0063 - val_loss: 0.0227\n",
            "Epoch 32/100\n",
            "3/3 [==============================] - 0s 42ms/step - loss: 0.0066 - val_loss: 0.0221\n",
            "Epoch 33/100\n",
            "3/3 [==============================] - 0s 35ms/step - loss: 0.0058 - val_loss: 0.0226\n",
            "Epoch 34/100\n",
            "3/3 [==============================] - 0s 41ms/step - loss: 0.0065 - val_loss: 0.0230\n",
            "Epoch 35/100\n",
            "3/3 [==============================] - 0s 31ms/step - loss: 0.0075 - val_loss: 0.0232\n",
            "Epoch 36/100\n",
            "3/3 [==============================] - 0s 28ms/step - loss: 0.0080 - val_loss: 0.0236\n",
            "Epoch 37/100\n",
            "3/3 [==============================] - 0s 43ms/step - loss: 0.0066 - val_loss: 0.0228\n",
            "Epoch 38/100\n",
            "3/3 [==============================] - 0s 39ms/step - loss: 0.0086 - val_loss: 0.0231\n",
            "Epoch 39/100\n",
            "3/3 [==============================] - 0s 30ms/step - loss: 0.0066 - val_loss: 0.0225\n",
            "Epoch 40/100\n",
            "3/3 [==============================] - 0s 40ms/step - loss: 0.0070 - val_loss: 0.0223\n",
            "Epoch 41/100\n",
            "3/3 [==============================] - 0s 31ms/step - loss: 0.0067 - val_loss: 0.0235\n",
            "Epoch 42/100\n",
            "3/3 [==============================] - 0s 30ms/step - loss: 0.0083 - val_loss: 0.0247\n",
            "Epoch 43/100\n",
            "3/3 [==============================] - 0s 41ms/step - loss: 0.0065 - val_loss: 0.0240\n",
            "Epoch 44/100\n",
            "3/3 [==============================] - 0s 39ms/step - loss: 0.0068 - val_loss: 0.0229\n",
            "Epoch 45/100\n",
            "3/3 [==============================] - 0s 34ms/step - loss: 0.0071 - val_loss: 0.0228\n",
            "Epoch 46/100\n",
            "3/3 [==============================] - 0s 36ms/step - loss: 0.0066 - val_loss: 0.0245\n",
            "Epoch 47/100\n",
            "3/3 [==============================] - 0s 41ms/step - loss: 0.0065 - val_loss: 0.0244\n",
            "Epoch 48/100\n",
            "3/3 [==============================] - 0s 37ms/step - loss: 0.0077 - val_loss: 0.0230\n",
            "Epoch 49/100\n",
            "3/3 [==============================] - 0s 44ms/step - loss: 0.0066 - val_loss: 0.0226\n",
            "Epoch 50/100\n",
            "3/3 [==============================] - 0s 39ms/step - loss: 0.0071 - val_loss: 0.0234\n",
            "Epoch 51/100\n",
            "3/3 [==============================] - 0s 36ms/step - loss: 0.0071 - val_loss: 0.0240\n",
            "Epoch 52/100\n",
            "3/3 [==============================] - 0s 33ms/step - loss: 0.0083 - val_loss: 0.0248\n",
            "Epoch 53/100\n",
            "3/3 [==============================] - 0s 37ms/step - loss: 0.0079 - val_loss: 0.0241\n",
            "Epoch 54/100\n",
            "3/3 [==============================] - 0s 37ms/step - loss: 0.0065 - val_loss: 0.0231\n",
            "Epoch 55/100\n",
            "3/3 [==============================] - 0s 31ms/step - loss: 0.0068 - val_loss: 0.0225\n",
            "Epoch 56/100\n",
            "3/3 [==============================] - 0s 22ms/step - loss: 0.0063 - val_loss: 0.0223\n",
            "Epoch 57/100\n",
            "3/3 [==============================] - 0s 24ms/step - loss: 0.0070 - val_loss: 0.0216\n",
            "Epoch 58/100\n",
            "3/3 [==============================] - 0s 22ms/step - loss: 0.0071 - val_loss: 0.0220\n",
            "Epoch 59/100\n",
            "3/3 [==============================] - 0s 22ms/step - loss: 0.0056 - val_loss: 0.0225\n",
            "Epoch 60/100\n",
            "3/3 [==============================] - 0s 22ms/step - loss: 0.0065 - val_loss: 0.0224\n",
            "Epoch 61/100\n",
            "3/3 [==============================] - 0s 22ms/step - loss: 0.0067 - val_loss: 0.0221\n",
            "Epoch 62/100\n",
            "3/3 [==============================] - 0s 22ms/step - loss: 0.0059 - val_loss: 0.0212\n",
            "Epoch 63/100\n",
            "3/3 [==============================] - 0s 35ms/step - loss: 0.0068 - val_loss: 0.0202\n",
            "Epoch 64/100\n",
            "3/3 [==============================] - 0s 24ms/step - loss: 0.0062 - val_loss: 0.0203\n",
            "Epoch 65/100\n",
            "3/3 [==============================] - 0s 21ms/step - loss: 0.0066 - val_loss: 0.0217\n",
            "Epoch 66/100\n",
            "3/3 [==============================] - 0s 21ms/step - loss: 0.0059 - val_loss: 0.0223\n",
            "Epoch 67/100\n",
            "3/3 [==============================] - 0s 25ms/step - loss: 0.0066 - val_loss: 0.0226\n",
            "Epoch 68/100\n",
            "3/3 [==============================] - 0s 23ms/step - loss: 0.0076 - val_loss: 0.0216\n",
            "Epoch 69/100\n",
            "3/3 [==============================] - 0s 25ms/step - loss: 0.0069 - val_loss: 0.0202\n",
            "Epoch 70/100\n",
            "3/3 [==============================] - 0s 24ms/step - loss: 0.0061 - val_loss: 0.0203\n",
            "Epoch 71/100\n",
            "3/3 [==============================] - 0s 34ms/step - loss: 0.0062 - val_loss: 0.0225\n",
            "Epoch 72/100\n",
            "3/3 [==============================] - 0s 24ms/step - loss: 0.0063 - val_loss: 0.0216\n",
            "Epoch 73/100\n",
            "3/3 [==============================] - 0s 25ms/step - loss: 0.0070 - val_loss: 0.0200\n",
            "Epoch 74/100\n",
            "3/3 [==============================] - 0s 22ms/step - loss: 0.0072 - val_loss: 0.0193\n",
            "Epoch 75/100\n",
            "3/3 [==============================] - 0s 24ms/step - loss: 0.0073 - val_loss: 0.0202\n",
            "Epoch 76/100\n",
            "3/3 [==============================] - 0s 25ms/step - loss: 0.0065 - val_loss: 0.0218\n",
            "Epoch 77/100\n",
            "3/3 [==============================] - 0s 22ms/step - loss: 0.0058 - val_loss: 0.0227\n",
            "Epoch 78/100\n",
            "3/3 [==============================] - 0s 25ms/step - loss: 0.0065 - val_loss: 0.0221\n",
            "Epoch 79/100\n",
            "3/3 [==============================] - 0s 27ms/step - loss: 0.0066 - val_loss: 0.0204\n",
            "Epoch 80/100\n",
            "3/3 [==============================] - 0s 22ms/step - loss: 0.0049 - val_loss: 0.0196\n",
            "Epoch 81/100\n",
            "3/3 [==============================] - 0s 22ms/step - loss: 0.0062 - val_loss: 0.0204\n",
            "Epoch 82/100\n",
            "3/3 [==============================] - 0s 22ms/step - loss: 0.0062 - val_loss: 0.0213\n",
            "Epoch 83/100\n",
            "3/3 [==============================] - 0s 23ms/step - loss: 0.0066 - val_loss: 0.0210\n",
            "Epoch 84/100\n",
            "3/3 [==============================] - 0s 22ms/step - loss: 0.0065 - val_loss: 0.0199\n",
            "Epoch 85/100\n",
            "3/3 [==============================] - 0s 22ms/step - loss: 0.0065 - val_loss: 0.0187\n",
            "Epoch 86/100\n",
            "3/3 [==============================] - 0s 24ms/step - loss: 0.0066 - val_loss: 0.0192\n",
            "Epoch 87/100\n",
            "3/3 [==============================] - 0s 27ms/step - loss: 0.0065 - val_loss: 0.0205\n",
            "Epoch 88/100\n",
            "3/3 [==============================] - 0s 23ms/step - loss: 0.0065 - val_loss: 0.0213\n",
            "Epoch 89/100\n",
            "3/3 [==============================] - 0s 24ms/step - loss: 0.0066 - val_loss: 0.0201\n",
            "Epoch 90/100\n",
            "3/3 [==============================] - 0s 21ms/step - loss: 0.0055 - val_loss: 0.0203\n",
            "Epoch 91/100\n",
            "3/3 [==============================] - 0s 22ms/step - loss: 0.0056 - val_loss: 0.0212\n",
            "Epoch 92/100\n",
            "3/3 [==============================] - 0s 22ms/step - loss: 0.0064 - val_loss: 0.0210\n",
            "Epoch 93/100\n",
            "3/3 [==============================] - 0s 25ms/step - loss: 0.0070 - val_loss: 0.0212\n",
            "Epoch 94/100\n",
            "3/3 [==============================] - 0s 22ms/step - loss: 0.0082 - val_loss: 0.0194\n",
            "Epoch 95/100\n",
            "3/3 [==============================] - 0s 35ms/step - loss: 0.0065 - val_loss: 0.0194\n",
            "Epoch 96/100\n",
            "3/3 [==============================] - 0s 22ms/step - loss: 0.0055 - val_loss: 0.0192\n",
            "Epoch 97/100\n",
            "3/3 [==============================] - 0s 23ms/step - loss: 0.0057 - val_loss: 0.0196\n",
            "Epoch 98/100\n",
            "3/3 [==============================] - 0s 22ms/step - loss: 0.0069 - val_loss: 0.0193\n",
            "Epoch 99/100\n",
            "3/3 [==============================] - 0s 22ms/step - loss: 0.0061 - val_loss: 0.0204\n",
            "Epoch 100/100\n",
            "3/3 [==============================] - 0s 23ms/step - loss: 0.0065 - val_loss: 0.0213\n",
            "4/4 [==============================] - 0s 5ms/step\n",
            "1/1 [==============================] - 0s 23ms/step\n",
            "Train Score: 2158.79 (MSE)\n",
            "Test Score: 11382.37 (MSE)\n"
          ]
        }
      ]
    },
    {
      "cell_type": "markdown",
      "source": [
        "# Q3 NLPs\n",
        "\n",
        "The guest lecturer of week 5 will talk about natural language processing (NLPs). To prepare for this please watch the following videos and per video tell us one thing you learned.\n",
        "\n",
        "Videos\n",
        "Intro (5 minutes); https://www.youtube.com/watch?v=CMrHM8a3hqw\n",
        "\n",
        "Transform & Bert (10 minutes); https://www.youtube.com/watch?v=SZorAJ4I-sA\n",
        "\n",
        "Optional; Transform (13 minutes) (more in depth); https://www.youtube.com/watch?v=TQQlZhbC5ps"
      ],
      "metadata": {
        "id": "vL7lb8bCUioc"
      },
      "id": "vL7lb8bCUioc"
    },
    {
      "cell_type": "markdown",
      "source": [
        "1. I didn't know it was possible to get rid of the \"stop words\" as they seem important to me in providing meaning as a human being.\n",
        "\n",
        "2. I didn't know how revolutionary the transoformer was in comparison the RNN, especially in its ability to speed up the process."
      ],
      "metadata": {
        "id": "DLf5MNAOU4KB"
      },
      "id": "DLf5MNAOU4KB"
    }
  ],
  "metadata": {
    "kernelspec": {
      "display_name": "Python 3 (ipykernel)",
      "language": "python",
      "name": "python3"
    },
    "language_info": {
      "codemirror_mode": {
        "name": "ipython",
        "version": 3
      },
      "file_extension": ".py",
      "mimetype": "text/x-python",
      "name": "python",
      "nbconvert_exporter": "python",
      "pygments_lexer": "ipython3",
      "version": "3.10.7"
    },
    "colab": {
      "provenance": []
    }
  },
  "nbformat": 4,
  "nbformat_minor": 5
}